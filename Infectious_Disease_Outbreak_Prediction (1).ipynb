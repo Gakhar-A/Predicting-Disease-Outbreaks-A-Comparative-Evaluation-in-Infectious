{
  "nbformat": 4,
  "nbformat_minor": 0,
  "metadata": {
    "colab": {
      "private_outputs": true,
      "provenance": []
    },
    "kernelspec": {
      "name": "python3",
      "display_name": "Python 3"
    },
    "language_info": {
      "name": "python"
    }
  },
  "cells": [
    {
      "cell_type": "code",
      "execution_count": null,
      "metadata": {
        "id": "-UB785FTtcV4"
      },
      "outputs": [],
      "source": [
        "import pandas as pd\n",
        "import matplotlib.pyplot as plt\n",
        "import geopandas as gpd\n",
        "import plotnine as pltn\n",
        "import seaborn as sns"
      ]
    },
    {
      "cell_type": "code",
      "source": [
        "hep = pd.read_csv(\"/content/hepatitis.csv\")\n",
        "measles = pd.read_csv(\"/content/measles.csv\")\n",
        "mump = pd.read_csv(\"/content/mumps.csv\")\n",
        "polio = pd.read_csv(\"/content/polio.csv\")\n",
        "pert = pd.read_csv(\"/content/pertussis.csv\")\n",
        "rub = pd.read_csv(\"/content/rubella.csv\")\n",
        "smlpx = pd.read_csv(\"/content/smallpox.csv\")"
      ],
      "metadata": {
        "id": "-tMTExbwBRl9"
      },
      "execution_count": null,
      "outputs": []
    },
    {
      "cell_type": "code",
      "source": [
        "disease = hep.append(measles)\n",
        "disease = disease.append(mump)\n",
        "disease = disease.append(pert)\n",
        "disease = disease.append(polio)\n",
        "disease = disease.append(rub)\n",
        "disease = disease.append(smlpx)\n"
      ],
      "metadata": {
        "id": "tbNNofeaEZ8Y"
      },
      "execution_count": null,
      "outputs": []
    },
    {
      "cell_type": "code",
      "source": [],
      "metadata": {
        "id": "ynx8shZXINLT"
      },
      "execution_count": null,
      "outputs": []
    },
    {
      "cell_type": "code",
      "source": [
        "# Create the 'year' column\n",
        "disease['year'] = (disease['week'] // 100).astype(int)\n",
        "\n",
        "# Create the 'weekNb' column\n",
        "disease['weekNb'] = disease['week'] - disease['year'] * 100\n",
        "\n",
        "# Create the 'tempsContinue' column\n",
        "disease['tempsContinue'] = disease['year'].astype(float) + disease['weekNb'].astype(float) / 52\n",
        "\n",
        "# Aggregate data\n",
        "toPlot = disease.groupby(['tempsContinue', 'disease'])['incidence_per_capita'].sum().reset_index()\n",
        "\n",
        "# Sort by 'tempsContinue'\n",
        "toPlot = toPlot.sort_values(by='tempsContinue')\n",
        "\n",
        "# Plot data using seaborn\n",
        "for disease in toPlot['disease'].unique():\n",
        "    data_subset = toPlot[toPlot['disease'] == disease]\n",
        "\n",
        "    plt.figure(figsize=(10, 5))\n",
        "    sns.barplot(x='tempsContinue', y='incidence_per_capita', data=data_subset, hue='incidence_per_capita')\n",
        "\n",
        "    plt.title(disease)\n",
        "    plt.ylim(0, data_subset['incidence_per_capita'].max())\n",
        "    plt.legend([])\n",
        "    plt.show()"
      ],
      "metadata": {
        "id": "sivKbuAhrWKF"
      },
      "execution_count": null,
      "outputs": []
    },
    {
      "cell_type": "code",
      "source": [
        "import pandas as pd\n",
        "import seaborn as sns\n",
        "import matplotlib.pyplot as plt\n",
        "# Load your data into a Pandas DataFrame (replace 'your_data.csv' with your actual data file)\n",
        "data1 = pd.read_csv('/content/hepatitis.csv')\n",
        "\n",
        "# Perform groupby operation\n",
        "toPlot = data1.groupby(['state_name', 'disease'])['incidence_per_capita'].sum().reset_index()\n",
        "toPlot = data1.groupby(['state_name', 'disease'])['incidence_per_capita'].sum().reset_index()\n",
        "\n",
        "# Create a boxplot using Seaborn\n",
        "plt.figure(figsize=(10, 5))\n",
        "sns.boxplot(x='disease', y='incidence_per_capita', data=toPlot, hue='disease', palette='Set3')\n",
        "plt.ylim(0, 0.1)\n",
        "plt.title('Incidence per Capita by Disease')\n",
        "plt.xlabel('Disease')\n",
        "plt.ylabel('Incidence per Capita')\n",
        "plt.legend(title='Disease', loc='upper right')\n",
        "plt.show()\n"
      ],
      "metadata": {
        "id": "X4qjJTvRr5pl"
      },
      "execution_count": null,
      "outputs": []
    },
    {
      "cell_type": "markdown",
      "source": [
        "MEASLES"
      ],
      "metadata": {
        "id": "MnDeKm0dEYKR"
      }
    },
    {
      "cell_type": "code",
      "source": [
        "measles.head()"
      ],
      "metadata": {
        "id": "pOMS5kqxBkS3"
      },
      "execution_count": null,
      "outputs": []
    },
    {
      "cell_type": "code",
      "source": [
        "measles.info()"
      ],
      "metadata": {
        "id": "niROSLXRClaP"
      },
      "execution_count": null,
      "outputs": []
    },
    {
      "cell_type": "code",
      "source": [
        "sns.boxplot(measles['cases'])"
      ],
      "metadata": {
        "id": "gWniwYseCvuV"
      },
      "execution_count": null,
      "outputs": []
    },
    {
      "cell_type": "code",
      "source": [
        "sns.boxplot(measles['incidence_per_capita'])"
      ],
      "metadata": {
        "id": "gm4PF8w6DdJZ"
      },
      "execution_count": null,
      "outputs": []
    },
    {
      "cell_type": "code",
      "source": [
        "plt.scatter(measles['cases'], measles['incidence_per_capita'])"
      ],
      "metadata": {
        "id": "a2j-RRR_DkJP"
      },
      "execution_count": null,
      "outputs": []
    },
    {
      "cell_type": "code",
      "source": [
        "plt.scatter(measles['cases'], measles['incidence_per_capita'])"
      ],
      "metadata": {
        "id": "KmjltAmWDxWO"
      },
      "execution_count": null,
      "outputs": []
    },
    {
      "cell_type": "code",
      "source": [
        "plt.matshow(measles.corr())\n",
        "plt.colorbar()\n",
        "plt.show()"
      ],
      "metadata": {
        "id": "ez7_L4ccD5b_"
      },
      "execution_count": null,
      "outputs": []
    },
    {
      "cell_type": "code",
      "source": [
        "mump.head()"
      ],
      "metadata": {
        "id": "qT0Z8m6sa7_l"
      },
      "execution_count": null,
      "outputs": []
    },
    {
      "cell_type": "markdown",
      "source": [
        "MUMP disease"
      ],
      "metadata": {
        "id": "kUwzgLtHb-HO"
      }
    },
    {
      "cell_type": "code",
      "source": [
        "mump.info()"
      ],
      "metadata": {
        "id": "iFbDNCcPbVry"
      },
      "execution_count": null,
      "outputs": []
    },
    {
      "cell_type": "code",
      "source": [
        "sns.boxplot(mump['cases'])"
      ],
      "metadata": {
        "id": "veiPjYrybZJJ"
      },
      "execution_count": null,
      "outputs": []
    },
    {
      "cell_type": "code",
      "source": [
        "sns.boxplot(mump['incidence_per_capita'])"
      ],
      "metadata": {
        "id": "nNrpbBJ-bgj3"
      },
      "execution_count": null,
      "outputs": []
    },
    {
      "cell_type": "code",
      "source": [
        "plt.scatter(mump['cases'], mump['incidence_per_capita'])"
      ],
      "metadata": {
        "id": "0qNx5t2tblxW"
      },
      "execution_count": null,
      "outputs": []
    },
    {
      "cell_type": "code",
      "source": [
        "plt.scatter(mump['cases'], mump['incidence_per_capita'])"
      ],
      "metadata": {
        "id": "N6rP4j8lb0Mv"
      },
      "execution_count": null,
      "outputs": []
    },
    {
      "cell_type": "code",
      "source": [
        "plt.matshow(mump.corr())\n",
        "plt.colorbar()\n",
        "plt.show()"
      ],
      "metadata": {
        "id": "_Fi-AU_Hb6Ab"
      },
      "execution_count": null,
      "outputs": []
    },
    {
      "cell_type": "markdown",
      "source": [
        "Hepatitis"
      ],
      "metadata": {
        "id": "Z1dU20TkcICV"
      }
    },
    {
      "cell_type": "code",
      "source": [
        "hep.head()"
      ],
      "metadata": {
        "id": "SlHI-6YMcK-3"
      },
      "execution_count": null,
      "outputs": []
    },
    {
      "cell_type": "code",
      "source": [
        "hep.info()"
      ],
      "metadata": {
        "id": "rS0PdpUScSFv"
      },
      "execution_count": null,
      "outputs": []
    },
    {
      "cell_type": "code",
      "source": [
        "sns.boxplot(hep['cases'])"
      ],
      "metadata": {
        "id": "cr_v4WLmcVf8"
      },
      "execution_count": null,
      "outputs": []
    },
    {
      "cell_type": "code",
      "source": [
        "sns.boxplot(hep['incidence_per_capita'])"
      ],
      "metadata": {
        "id": "ecgX-u2GcduL"
      },
      "execution_count": null,
      "outputs": []
    },
    {
      "cell_type": "code",
      "source": [
        "plt.scatter(hep['cases'], hep['incidence_per_capita'])"
      ],
      "metadata": {
        "id": "Q2T-CsNucjpy"
      },
      "execution_count": null,
      "outputs": []
    },
    {
      "cell_type": "code",
      "source": [
        "plt.scatter(hep['cases'], hep['incidence_per_capita'])"
      ],
      "metadata": {
        "id": "gVjS8S-9coyt"
      },
      "execution_count": null,
      "outputs": []
    },
    {
      "cell_type": "code",
      "source": [
        "plt.matshow(hep.corr())\n",
        "plt.colorbar()\n",
        "plt.show()"
      ],
      "metadata": {
        "id": "eO0m6Ai1cv5n"
      },
      "execution_count": null,
      "outputs": []
    },
    {
      "cell_type": "markdown",
      "source": [
        "Pertussis"
      ],
      "metadata": {
        "id": "vp45YoRDc2dY"
      }
    },
    {
      "cell_type": "code",
      "source": [
        "pert.head()"
      ],
      "metadata": {
        "id": "BQxDHAx0c57s"
      },
      "execution_count": null,
      "outputs": []
    },
    {
      "cell_type": "code",
      "source": [
        "pert.info()"
      ],
      "metadata": {
        "id": "gegWc5xpc_98"
      },
      "execution_count": null,
      "outputs": []
    },
    {
      "cell_type": "code",
      "source": [
        "sns.boxplot(pert['cases'])"
      ],
      "metadata": {
        "id": "ERxw_W7AdCls"
      },
      "execution_count": null,
      "outputs": []
    },
    {
      "cell_type": "code",
      "source": [
        "sns.boxplot(pert['incidence_per_capita'])"
      ],
      "metadata": {
        "id": "Iga4ZUMjdLHE"
      },
      "execution_count": null,
      "outputs": []
    },
    {
      "cell_type": "code",
      "source": [
        "plt.scatter(pert['cases'], pert['incidence_per_capita'])"
      ],
      "metadata": {
        "id": "UDUyYDsHdSY6"
      },
      "execution_count": null,
      "outputs": []
    },
    {
      "cell_type": "code",
      "source": [
        "plt.matshow(pert.corr())\n",
        "plt.colorbar()\n",
        "plt.show()"
      ],
      "metadata": {
        "id": "ujkMT7tzdjpo"
      },
      "execution_count": null,
      "outputs": []
    },
    {
      "cell_type": "markdown",
      "source": [
        "Polio"
      ],
      "metadata": {
        "id": "-oR-UN1JdmmP"
      }
    },
    {
      "cell_type": "code",
      "source": [
        "polio.head()"
      ],
      "metadata": {
        "id": "rvkiOKAAdqMb"
      },
      "execution_count": null,
      "outputs": []
    },
    {
      "cell_type": "code",
      "source": [
        "polio.info()"
      ],
      "metadata": {
        "id": "n5KGNWJjdxKg"
      },
      "execution_count": null,
      "outputs": []
    },
    {
      "cell_type": "code",
      "source": [
        "plt.matshow(polio.corr())\n",
        "plt.colorbar()\n",
        "plt.show()"
      ],
      "metadata": {
        "id": "X-GL-0wDeWWS"
      },
      "execution_count": null,
      "outputs": []
    },
    {
      "cell_type": "markdown",
      "source": [
        "Rubella"
      ],
      "metadata": {
        "id": "rDmpyZ4aeZqr"
      }
    },
    {
      "cell_type": "code",
      "source": [
        "rub.head()"
      ],
      "metadata": {
        "id": "CBOK4gJBebXM"
      },
      "execution_count": null,
      "outputs": []
    },
    {
      "cell_type": "code",
      "source": [
        "rub.info()"
      ],
      "metadata": {
        "id": "RLqupVwceipn"
      },
      "execution_count": null,
      "outputs": []
    },
    {
      "cell_type": "code",
      "source": [
        "sns.boxplot(rub['cases'])"
      ],
      "metadata": {
        "id": "YnTf7VxWenCQ"
      },
      "execution_count": null,
      "outputs": []
    },
    {
      "cell_type": "code",
      "source": [
        "sns.boxplot(rub['incidence_per_capita'])"
      ],
      "metadata": {
        "id": "DHsu9Qg1erOw"
      },
      "execution_count": null,
      "outputs": []
    },
    {
      "cell_type": "code",
      "source": [
        "plt.scatter(rub['cases'], rub['incidence_per_capita'])"
      ],
      "metadata": {
        "id": "Qdc6alqXewrZ"
      },
      "execution_count": null,
      "outputs": []
    },
    {
      "cell_type": "code",
      "source": [
        "plt.matshow(rub.corr())\n",
        "plt.colorbar()\n",
        "plt.show()"
      ],
      "metadata": {
        "id": "f0xz0IAJe35q"
      },
      "execution_count": null,
      "outputs": []
    },
    {
      "cell_type": "markdown",
      "source": [
        "Smallpox"
      ],
      "metadata": {
        "id": "hLQ0iEWQe7Gq"
      }
    },
    {
      "cell_type": "code",
      "source": [
        "smlpx.head()"
      ],
      "metadata": {
        "id": "CVBXungUe82r"
      },
      "execution_count": null,
      "outputs": []
    },
    {
      "cell_type": "code",
      "source": [
        "smlpx.info()"
      ],
      "metadata": {
        "id": "59ZXSiA4fEfi"
      },
      "execution_count": null,
      "outputs": []
    },
    {
      "cell_type": "code",
      "source": [
        "sns.boxplot(smlpx['cases'])"
      ],
      "metadata": {
        "id": "DRfhUvk4fHgi"
      },
      "execution_count": null,
      "outputs": []
    },
    {
      "cell_type": "code",
      "source": [
        "sns.boxplot(smlpx['incidence_per_capita'])"
      ],
      "metadata": {
        "id": "rcoKrqzdfPMO"
      },
      "execution_count": null,
      "outputs": []
    },
    {
      "cell_type": "code",
      "source": [
        "plt.scatter(smlpx['cases'], smlpx['incidence_per_capita'])"
      ],
      "metadata": {
        "id": "QsI5DrlQfS9Z"
      },
      "execution_count": null,
      "outputs": []
    },
    {
      "cell_type": "code",
      "source": [
        "plt.matshow(smlpx.corr())\n",
        "plt.colorbar()\n",
        "plt.show()"
      ],
      "metadata": {
        "id": "27K_cJQxfdPf"
      },
      "execution_count": null,
      "outputs": []
    },
    {
      "cell_type": "markdown",
      "source": [
        "................................................................................................................................................................................................................................................."
      ],
      "metadata": {
        "id": "JFEkMdcWRRFK"
      }
    },
    {
      "cell_type": "markdown",
      "source": [
        "................................................................................................................................................................................................................................................."
      ],
      "metadata": {
        "id": "MZDwgx2LRR31"
      }
    },
    {
      "cell_type": "markdown",
      "source": [
        "# To group regions with similar characterstics using K-Means Clustering"
      ],
      "metadata": {
        "id": "Au8cTcW29RF-"
      }
    },
    {
      "cell_type": "markdown",
      "source": [
        "# MEASLES"
      ],
      "metadata": {
        "id": "GwVePNbI0ZDu"
      }
    },
    {
      "cell_type": "code",
      "source": [
        "import pandas as pd\n",
        "import numpy as np\n",
        "from sklearn.cluster import KMeans\n",
        "import matplotlib.pyplot as plt\n",
        "from sklearn.preprocessing import StandardScaler"
      ],
      "metadata": {
        "id": "sPmpAyRC9_xB"
      },
      "execution_count": null,
      "outputs": []
    },
    {
      "cell_type": "code",
      "source": [
        "data= pd.read_csv('/content/measles.csv')"
      ],
      "metadata": {
        "id": "oefc26BX-Lan"
      },
      "execution_count": null,
      "outputs": []
    },
    {
      "cell_type": "code",
      "source": [
        "measles.head()"
      ],
      "metadata": {
        "id": "TZx6Yerx-SRe"
      },
      "execution_count": null,
      "outputs": []
    },
    {
      "cell_type": "code",
      "source": [
        "features = data[['incidence_per_capita', 'cases']]"
      ],
      "metadata": {
        "id": "cyKeQ7ch-QzZ"
      },
      "execution_count": null,
      "outputs": []
    },
    {
      "cell_type": "code",
      "source": [
        "scaler = StandardScaler()\n",
        "scaled_features = scaler.fit_transform(features)"
      ],
      "metadata": {
        "id": "LLPKcPbZ-_Cy"
      },
      "execution_count": null,
      "outputs": []
    },
    {
      "cell_type": "code",
      "source": [
        "wcss = []\n",
        "for i in range(1, 11):\n",
        "    kmeans = KMeans(n_clusters=i, init='k-means++', max_iter=300, n_init=10, random_state=0)\n",
        "    kmeans.fit(scaled_features)\n",
        "    wcss.append(kmeans.inertia_)\n"
      ],
      "metadata": {
        "id": "QyUSvgGV_nrw"
      },
      "execution_count": null,
      "outputs": []
    },
    {
      "cell_type": "code",
      "source": [
        "plt.plot(range(1, 11), wcss)\n",
        "plt.title('Elbow Method')\n",
        "plt.xlabel('Number of clusters')\n",
        "plt.ylabel('WCSS')\n",
        "plt.show()"
      ],
      "metadata": {
        "id": "goa28BPq_511"
      },
      "execution_count": null,
      "outputs": []
    },
    {
      "cell_type": "code",
      "source": [
        "optimal_clusters = 3\n",
        "kmeans = KMeans(n_clusters=optimal_clusters, init='k-means++', max_iter=300, n_init=10, random_state=0)\n",
        "kmeans.fit(scaled_features)"
      ],
      "metadata": {
        "id": "I4BTL8VhADrK"
      },
      "execution_count": null,
      "outputs": []
    },
    {
      "cell_type": "code",
      "source": [
        "data['Cluster'] = kmeans.labels_"
      ],
      "metadata": {
        "id": "MLLQVFD5AJ6D"
      },
      "execution_count": null,
      "outputs": []
    },
    {
      "cell_type": "code",
      "source": [
        "plt.scatter(data['incidence_per_capita'], data['cases'], c=data['Cluster'], cmap='viridis')\n",
        "plt.scatter(kmeans.cluster_centers_[:, 0], kmeans.cluster_centers_[:, 1], s=300, c='red')\n",
        "plt.title('Clusters of Regions with Similar Infectious Disease Characteristics')\n",
        "plt.xlabel('incidence_per_capita')\n",
        "plt.ylabel('cases')\n",
        "plt.show()"
      ],
      "metadata": {
        "id": "qzMXTz-mANpU"
      },
      "execution_count": null,
      "outputs": []
    },
    {
      "cell_type": "markdown",
      "source": [
        "-->Silhouette Score"
      ],
      "metadata": {
        "id": "Od4ferRt7BEc"
      }
    },
    {
      "cell_type": "markdown",
      "source": [
        "The Silhouette Score measures how similar an object is to its own cluster compared to other clusters. The score ranges from -1 to 1, where a high value indicates that the object is well matched to its own cluster and poorly matched to neighboring clusters."
      ],
      "metadata": {
        "id": "4S0QTqkX-a49"
      }
    },
    {
      "cell_type": "code",
      "source": [
        "from sklearn.cluster import KMeans\n",
        "from sklearn.metrics import silhouette_score\n",
        "import numpy as np\n",
        "import pandas as pd\n",
        "\n",
        "data= pd.read_csv('/content/measles.csv')\n",
        "data = np.random.rand(100, 2)\n",
        "\n",
        "kmeans = KMeans(n_clusters=3)\n",
        "labels = kmeans.fit_predict(data)\n",
        "\n",
        "silhouette_avg = silhouette_score(data, labels)\n",
        "\n"
      ],
      "metadata": {
        "id": "nRCyDpNV9rD1"
      },
      "execution_count": null,
      "outputs": []
    },
    {
      "cell_type": "code",
      "source": [
        "print(f\"Silhouette Score: {silhouette_avg}\")"
      ],
      "metadata": {
        "id": "-u_jtCIU9wpn"
      },
      "execution_count": null,
      "outputs": []
    },
    {
      "cell_type": "markdown",
      "source": [
        "-->Davies-Bouldin Index"
      ],
      "metadata": {
        "id": "ssznZL1f_9uI"
      }
    },
    {
      "cell_type": "markdown",
      "source": [
        "The Davies-Bouldin Index (DBI) is a metric for evaluating the quality of clusters in a dataset. It measures the compactness and separation between clusters. The lower the Davies-Bouldin Index, the better the clustering"
      ],
      "metadata": {
        "id": "h9yf14eS__m7"
      }
    },
    {
      "cell_type": "code",
      "source": [
        "from sklearn.cluster import KMeans\n",
        "from sklearn.metrics import davies_bouldin_score\n",
        "import numpy as np\n",
        "\n",
        "data= pd.read_csv('/content/measles.csv')\n",
        "data = np.random.rand(100, 2)\n",
        "\n",
        "# Fit K-means model\n",
        "kmeans = KMeans(n_clusters=3)\n",
        "labels = kmeans.fit_predict(data)\n",
        "\n",
        "# Calculate Davies-Bouldin Index\n",
        "dbi_score = davies_bouldin_score(data, labels)\n"
      ],
      "metadata": {
        "id": "gMvM13O8AQtu"
      },
      "execution_count": null,
      "outputs": []
    },
    {
      "cell_type": "code",
      "source": [
        "print(f\"Davies-Bouldin Index: {dbi_score}\")"
      ],
      "metadata": {
        "id": "TQiml90TAoGi"
      },
      "execution_count": null,
      "outputs": []
    },
    {
      "cell_type": "markdown",
      "source": [
        "# SMALLPOX"
      ],
      "metadata": {
        "id": "6O8Gvvcr0dmj"
      }
    },
    {
      "cell_type": "code",
      "source": [
        "import pandas as pd\n",
        "import numpy as np\n",
        "from sklearn.cluster import KMeans\n",
        "import matplotlib.pyplot as plt\n",
        "from sklearn.preprocessing import StandardScaler"
      ],
      "metadata": {
        "id": "sD5CSrGk0gFa"
      },
      "execution_count": null,
      "outputs": []
    },
    {
      "cell_type": "code",
      "source": [
        "data= pd.read_csv('/content/smallpox.csv')"
      ],
      "metadata": {
        "id": "rxoNGFxm0oUl"
      },
      "execution_count": null,
      "outputs": []
    },
    {
      "cell_type": "code",
      "source": [
        "data.head()"
      ],
      "metadata": {
        "id": "Ey4a0OOv0oQ_"
      },
      "execution_count": null,
      "outputs": []
    },
    {
      "cell_type": "code",
      "source": [
        "features = data[['incidence_per_capita', 'cases']]"
      ],
      "metadata": {
        "id": "IVd3o5w00oOr"
      },
      "execution_count": null,
      "outputs": []
    },
    {
      "cell_type": "code",
      "source": [
        "scaler = StandardScaler()\n",
        "scaled_features = scaler.fit_transform(features)"
      ],
      "metadata": {
        "id": "z47In0QY0oMW"
      },
      "execution_count": null,
      "outputs": []
    },
    {
      "cell_type": "code",
      "source": [
        "wcss = []\n",
        "for i in range(1, 11):\n",
        "    kmeans = KMeans(n_clusters=i, init='k-means++', max_iter=300, n_init=10, random_state=0)\n",
        "    kmeans.fit(scaled_features)\n",
        "    wcss.append(kmeans.inertia_)"
      ],
      "metadata": {
        "id": "JYSnzCef0oJr"
      },
      "execution_count": null,
      "outputs": []
    },
    {
      "cell_type": "code",
      "source": [
        "plt.plot(range(1, 11), wcss)\n",
        "plt.title('Elbow Method')\n",
        "plt.xlabel('Number of clusters')\n",
        "plt.ylabel('WCSS')\n",
        "plt.show()"
      ],
      "metadata": {
        "id": "BzNlfh0V0oG9"
      },
      "execution_count": null,
      "outputs": []
    },
    {
      "cell_type": "code",
      "source": [
        "optimal_clusters = 3\n",
        "kmeans = KMeans(n_clusters=optimal_clusters, init='k-means++', max_iter=300, n_init=10, random_state=0)\n",
        "kmeans.fit(scaled_features)"
      ],
      "metadata": {
        "id": "d6kjZH0y0oEF"
      },
      "execution_count": null,
      "outputs": []
    },
    {
      "cell_type": "code",
      "source": [
        "data['Cluster'] = kmeans.labels_"
      ],
      "metadata": {
        "id": "tOeA0MgW1VD_"
      },
      "execution_count": null,
      "outputs": []
    },
    {
      "cell_type": "code",
      "source": [
        "plt.scatter(data['incidence_per_capita'], data['cases'], c=data['Cluster'], cmap='viridis')\n",
        "plt.scatter(kmeans.cluster_centers_[:, 0], kmeans.cluster_centers_[:, 1], s=300, c='red')\n",
        "plt.title('Clusters of Regions with Similar Infectious Disease Characteristics')\n",
        "plt.xlabel('incidence_per_capita')\n",
        "plt.ylabel('cases')\n",
        "plt.show()"
      ],
      "metadata": {
        "id": "wWHQP4ym1VAf"
      },
      "execution_count": null,
      "outputs": []
    },
    {
      "cell_type": "markdown",
      "source": [
        "Silhouette Score"
      ],
      "metadata": {
        "id": "ZbWhcDGE970d"
      }
    },
    {
      "cell_type": "markdown",
      "source": [
        "The Silhouette Score measures how similar an object is to its own cluster (cohesion) compared to other clusters (separation). The score ranges from -1 to 1, where a high value indicates that the object is well matched to its own cluster and poorly matched to neighboring clusters."
      ],
      "metadata": {
        "id": "V8Wh8-we-gFT"
      }
    },
    {
      "cell_type": "code",
      "source": [
        "from sklearn.cluster import KMeans\n",
        "from sklearn.metrics import silhouette_score\n",
        "import numpy as np\n",
        "import pandas as pd\n",
        "\n",
        "data= pd.read_csv('/content/smallpox.csv')\n",
        "data = np.random.rand(100, 2)\n",
        "\n",
        "kmeans = KMeans(n_clusters=3)\n",
        "labels = kmeans.fit_predict(data)\n",
        "\n",
        "silhouette_avg = silhouette_score(data, labels)"
      ],
      "metadata": {
        "id": "SLVdVBWa986J"
      },
      "execution_count": null,
      "outputs": []
    },
    {
      "cell_type": "code",
      "source": [
        "print(f\"Silhouette Score: {silhouette_avg}\")"
      ],
      "metadata": {
        "id": "vr8lAjbg-NQP"
      },
      "execution_count": null,
      "outputs": []
    },
    {
      "cell_type": "markdown",
      "source": [
        "-->Davies-Bouldin Index\n",
        "\n"
      ],
      "metadata": {
        "id": "UcqWBUm9AwaX"
      }
    },
    {
      "cell_type": "markdown",
      "source": [
        "The Davies-Bouldin Index (DBI) is a metric for evaluating the quality of clusters in a dataset. It measures the compactness and separation between clusters. The lower the Davies-Bouldin Index, the better the clustering"
      ],
      "metadata": {
        "id": "xv5lk-cqA2nO"
      }
    },
    {
      "cell_type": "code",
      "source": [
        "from sklearn.cluster import KMeans\n",
        "from sklearn.metrics import davies_bouldin_score\n",
        "import numpy as np\n",
        "\n",
        "data= pd.read_csv('/content/smallpox.csv')\n",
        "data = np.random.rand(100, 2)\n",
        "\n",
        "# Fit K-means model\n",
        "kmeans = KMeans(n_clusters=3)\n",
        "labels = kmeans.fit_predict(data)\n",
        "\n",
        "# Calculate Davies-Bouldin Index\n",
        "dbi_score = davies_bouldin_score(data, labels)\n"
      ],
      "metadata": {
        "id": "5zOW1tvQA9t4"
      },
      "execution_count": null,
      "outputs": []
    },
    {
      "cell_type": "code",
      "source": [
        "print(f\"Davies-Bouldin Index: {dbi_score}\")"
      ],
      "metadata": {
        "id": "yb9UnN7IBEU7"
      },
      "execution_count": null,
      "outputs": []
    },
    {
      "cell_type": "markdown",
      "source": [
        "# MUMPS"
      ],
      "metadata": {
        "id": "UmaAw2t-1zad"
      }
    },
    {
      "cell_type": "code",
      "source": [
        "import pandas as pd\n",
        "import numpy as np\n",
        "from sklearn.cluster import KMeans\n",
        "import matplotlib.pyplot as plt\n",
        "from sklearn.preprocessing import StandardScaler"
      ],
      "metadata": {
        "id": "dIc2SFsg12jJ"
      },
      "execution_count": null,
      "outputs": []
    },
    {
      "cell_type": "code",
      "source": [
        "data= pd.read_csv('/content/mumps.csv')"
      ],
      "metadata": {
        "id": "t4pOdHeg19Q6"
      },
      "execution_count": null,
      "outputs": []
    },
    {
      "cell_type": "code",
      "source": [
        "data.head()"
      ],
      "metadata": {
        "id": "L_g1nmVR19H3"
      },
      "execution_count": null,
      "outputs": []
    },
    {
      "cell_type": "code",
      "source": [
        "features = data[['incidence_per_capita', 'cases']]"
      ],
      "metadata": {
        "id": "9gf1XpQh19EY"
      },
      "execution_count": null,
      "outputs": []
    },
    {
      "cell_type": "code",
      "source": [
        "scaler = StandardScaler()\n",
        "scaled_features = scaler.fit_transform(features)"
      ],
      "metadata": {
        "id": "7lV7-bAB2yt7"
      },
      "execution_count": null,
      "outputs": []
    },
    {
      "cell_type": "code",
      "source": [
        "wcss = []\n",
        "for i in range(1, 11):\n",
        "    kmeans = KMeans(n_clusters=i, init='k-means++', max_iter=300, n_init=10, random_state=0)\n",
        "    kmeans.fit(scaled_features)\n",
        "    wcss.append(kmeans.inertia_)"
      ],
      "metadata": {
        "id": "J6VRPCuy2yqq"
      },
      "execution_count": null,
      "outputs": []
    },
    {
      "cell_type": "code",
      "source": [
        "plt.plot(range(1, 11), wcss)\n",
        "plt.title('Elbow Method')\n",
        "plt.xlabel('Number of clusters')\n",
        "plt.ylabel('WCSS')\n",
        "plt.show()"
      ],
      "metadata": {
        "id": "0SBI8xoR2yoD"
      },
      "execution_count": null,
      "outputs": []
    },
    {
      "cell_type": "code",
      "source": [
        "optimal_clusters = 3\n",
        "kmeans = KMeans(n_clusters=optimal_clusters, init='k-means++', max_iter=300, n_init=10, random_state=0)\n",
        "kmeans.fit(scaled_features)"
      ],
      "metadata": {
        "id": "B0f-GrRt2ylP"
      },
      "execution_count": null,
      "outputs": []
    },
    {
      "cell_type": "code",
      "source": [
        "data['Cluster'] = kmeans.labels_"
      ],
      "metadata": {
        "id": "2iN6rO_v2yiq"
      },
      "execution_count": null,
      "outputs": []
    },
    {
      "cell_type": "code",
      "source": [
        "plt.scatter(data['incidence_per_capita'], data['cases'], c=data['Cluster'], cmap='viridis')\n",
        "plt.scatter(kmeans.cluster_centers_[:, 0], kmeans.cluster_centers_[:, 1], s=300, c='red')\n",
        "plt.title('Clusters of Regions with Similar Infectious Disease Characteristics')\n",
        "plt.xlabel('incidence_per_capita')\n",
        "plt.ylabel('cases')\n",
        "plt.show()"
      ],
      "metadata": {
        "id": "Z27Wuutm3hjL"
      },
      "execution_count": null,
      "outputs": []
    },
    {
      "cell_type": "markdown",
      "source": [
        "-->Silhouette Score"
      ],
      "metadata": {
        "id": "4ieYNcFh5H8W"
      }
    },
    {
      "cell_type": "markdown",
      "source": [
        "The Silhouette Score measures how similar an object is to its own cluster compared to other clusters. The score ranges from -1 to 1, where a high value indicates that the object is well matched to its own cluster and poorly matched to neighboring clusters."
      ],
      "metadata": {
        "id": "yUKxuabo5Hvl"
      }
    },
    {
      "cell_type": "code",
      "source": [
        "from sklearn.cluster import KMeans\n",
        "from sklearn.metrics import silhouette_score\n",
        "import numpy as np\n",
        "import pandas as pd\n",
        "\n",
        "data= pd.read_csv('/content/mumps.csv')\n",
        "data = np.random.rand(100, 2)\n",
        "\n",
        "kmeans = KMeans(n_clusters=3)\n",
        "labels = kmeans.fit_predict(data)\n",
        "\n",
        "silhouette_avg = silhouette_score(data, labels)\n",
        "\n"
      ],
      "metadata": {
        "id": "LE84hQG52yf0"
      },
      "execution_count": null,
      "outputs": []
    },
    {
      "cell_type": "code",
      "source": [
        "print(f\"Silhouette Score: {silhouette_avg}\")"
      ],
      "metadata": {
        "id": "VqDLXkM-5VOo"
      },
      "execution_count": null,
      "outputs": []
    },
    {
      "cell_type": "markdown",
      "source": [
        "-->Davies-Bouldin Index"
      ],
      "metadata": {
        "id": "9tCE3g3e5axY"
      }
    },
    {
      "cell_type": "markdown",
      "source": [
        "The Davies-Bouldin Index (DBI) is a metric for evaluating the quality of clusters in a dataset. It measures the compactness and separation between clusters. The lower the Davies-Bouldin Index, the better the clustering"
      ],
      "metadata": {
        "id": "dCFI12eg5at7"
      }
    },
    {
      "cell_type": "code",
      "source": [
        "from sklearn.cluster import KMeans\n",
        "from sklearn.metrics import davies_bouldin_score\n",
        "import numpy as np\n",
        "\n",
        "data= pd.read_csv('/content/mumps.csv')\n",
        "data = np.random.rand(100, 2)\n",
        "\n",
        "# Fit K-means model\n",
        "kmeans = KMeans(n_clusters=3)\n",
        "labels = kmeans.fit_predict(data)\n",
        "\n",
        "# Calculate Davies-Bouldin Index\n",
        "dbi_score = davies_bouldin_score(data, labels)"
      ],
      "metadata": {
        "id": "6cuBVOBT5l4Y"
      },
      "execution_count": null,
      "outputs": []
    },
    {
      "cell_type": "code",
      "source": [
        "print(f\"Davies-Bouldin Index: {dbi_score}\")"
      ],
      "metadata": {
        "id": "QBOhJJUm5ltJ"
      },
      "execution_count": null,
      "outputs": []
    },
    {
      "cell_type": "markdown",
      "source": [
        "# PERTUSSIS"
      ],
      "metadata": {
        "id": "TOumHJOc52D2"
      }
    },
    {
      "cell_type": "code",
      "source": [
        "import pandas as pd\n",
        "import numpy as np\n",
        "from sklearn.cluster import KMeans\n",
        "import matplotlib.pyplot as plt\n",
        "from sklearn.preprocessing import StandardScaler"
      ],
      "metadata": {
        "id": "qpKbBQYw6H15"
      },
      "execution_count": null,
      "outputs": []
    },
    {
      "cell_type": "code",
      "source": [
        "data= pd.read_csv('/content/pertussis.csv')"
      ],
      "metadata": {
        "id": "QIYs1VF46I8h"
      },
      "execution_count": null,
      "outputs": []
    },
    {
      "cell_type": "code",
      "source": [
        "data.head()"
      ],
      "metadata": {
        "id": "rgL8e_zm6ELv"
      },
      "execution_count": null,
      "outputs": []
    },
    {
      "cell_type": "code",
      "source": [
        "features = data[['incidence_per_capita', 'cases']]"
      ],
      "metadata": {
        "id": "s7Okws5g6WpL"
      },
      "execution_count": null,
      "outputs": []
    },
    {
      "cell_type": "code",
      "source": [
        "scaler = StandardScaler()\n",
        "scaled_features = scaler.fit_transform(features)"
      ],
      "metadata": {
        "id": "5pukyvA36Wij"
      },
      "execution_count": null,
      "outputs": []
    },
    {
      "cell_type": "code",
      "source": [
        "wcss = []\n",
        "for i in range(1, 11):\n",
        "    kmeans = KMeans(n_clusters=i, init='k-means++', max_iter=300, n_init=10, random_state=0)\n",
        "    kmeans.fit(scaled_features)\n",
        "    wcss.append(kmeans.inertia_)"
      ],
      "metadata": {
        "id": "CibIgTLZ6g5x"
      },
      "execution_count": null,
      "outputs": []
    },
    {
      "cell_type": "code",
      "source": [
        "plt.plot(range(1, 11), wcss)\n",
        "plt.title('Elbow Method')\n",
        "plt.xlabel('Number of clusters')\n",
        "plt.ylabel('WCSS')\n",
        "plt.show()"
      ],
      "metadata": {
        "id": "wDHxbqGy6iau"
      },
      "execution_count": null,
      "outputs": []
    },
    {
      "cell_type": "code",
      "source": [
        "optimal_clusters = 3\n",
        "kmeans = KMeans(n_clusters=optimal_clusters, init='k-means++', max_iter=300, n_init=10, random_state=0)\n",
        "kmeans.fit(scaled_features)"
      ],
      "metadata": {
        "id": "iUkWzDOs6lCG"
      },
      "execution_count": null,
      "outputs": []
    },
    {
      "cell_type": "code",
      "source": [
        "data['Cluster'] = kmeans.labels_"
      ],
      "metadata": {
        "id": "MYpi_fjG6nO1"
      },
      "execution_count": null,
      "outputs": []
    },
    {
      "cell_type": "code",
      "source": [
        "plt.scatter(data['incidence_per_capita'], data['cases'], c=data['Cluster'], cmap='viridis')\n",
        "plt.scatter(kmeans.cluster_centers_[:, 0], kmeans.cluster_centers_[:, 1], s=300, c='red')\n",
        "plt.title('Clusters of Regions with Similar Infectious Disease Characteristics')\n",
        "plt.xlabel('incidence_per_capita')\n",
        "plt.ylabel('cases')\n",
        "plt.show()"
      ],
      "metadata": {
        "id": "EqGi8XLr6vGY"
      },
      "execution_count": null,
      "outputs": []
    },
    {
      "cell_type": "markdown",
      "source": [
        "-->Silhouette Score"
      ],
      "metadata": {
        "id": "9JImIfLe699O"
      }
    },
    {
      "cell_type": "markdown",
      "source": [
        "The Silhouette Score measures how similar an object is to its own cluster compared to other clusters. The score ranges from -1 to 1, where a high value indicates that the object is well matched to its own cluster and poorly matched to neighboring clusters."
      ],
      "metadata": {
        "id": "7_6kWR626-95"
      }
    },
    {
      "cell_type": "code",
      "source": [
        "from sklearn.cluster import KMeans\n",
        "from sklearn.metrics import silhouette_score\n",
        "import numpy as np\n",
        "import pandas as pd\n",
        "\n",
        "data= pd.read_csv('/content/measles.csv')\n",
        "data = np.random.rand(100, 2)\n",
        "\n",
        "kmeans = KMeans(n_clusters=3)\n",
        "labels = kmeans.fit_predict(data)\n",
        "\n",
        "silhouette_avg = silhouette_score(data, labels)"
      ],
      "metadata": {
        "id": "fYDl0jGS7Big"
      },
      "execution_count": null,
      "outputs": []
    },
    {
      "cell_type": "code",
      "source": [
        "print(f\"Silhouette Score: {silhouette_avg}\")"
      ],
      "metadata": {
        "id": "DiJ1Gbfx7IGB"
      },
      "execution_count": null,
      "outputs": []
    },
    {
      "cell_type": "markdown",
      "source": [
        "-->Davies-Bouldin Index"
      ],
      "metadata": {
        "id": "TVCdpA_O7I7S"
      }
    },
    {
      "cell_type": "markdown",
      "source": [
        "The Davies-Bouldin Index (DBI) is a metric for evaluating the quality of clusters in a dataset. It measures the compactness and separation between clusters. The lower the Davies-Bouldin Index, the better the clustering"
      ],
      "metadata": {
        "id": "yviMFuCB7Lb_"
      }
    },
    {
      "cell_type": "code",
      "source": [
        "from sklearn.cluster import KMeans\n",
        "from sklearn.metrics import davies_bouldin_score\n",
        "import numpy as np\n",
        "\n",
        "data= pd.read_csv('/content/measles.csv')\n",
        "data = np.random.rand(100, 2)\n",
        "\n",
        "# Fit K-means model\n",
        "kmeans = KMeans(n_clusters=3)\n",
        "labels = kmeans.fit_predict(data)\n",
        "\n",
        "# Calculate Davies-Bouldin Index\n",
        "dbi_score = davies_bouldin_score(data, labels)\n"
      ],
      "metadata": {
        "id": "j-2J3JfR7Ofa"
      },
      "execution_count": null,
      "outputs": []
    },
    {
      "cell_type": "code",
      "source": [
        "print(f\"Davies-Bouldin Index: {dbi_score}\")"
      ],
      "metadata": {
        "id": "n3U20y497ScC"
      },
      "execution_count": null,
      "outputs": []
    },
    {
      "cell_type": "markdown",
      "source": [
        "# RUBELLA"
      ],
      "metadata": {
        "id": "HNuiwFYi8WsB"
      }
    },
    {
      "cell_type": "code",
      "source": [
        "import pandas as pd\n",
        "import numpy as np\n",
        "from sklearn.cluster import KMeans\n",
        "import matplotlib.pyplot as plt\n",
        "from sklearn.preprocessing import StandardScaler"
      ],
      "metadata": {
        "id": "WVahedpVV96g"
      },
      "execution_count": null,
      "outputs": []
    },
    {
      "cell_type": "code",
      "source": [
        "data= pd.read_csv('/content/rubella.csv')"
      ],
      "metadata": {
        "id": "FPnIq_McWSRD"
      },
      "execution_count": null,
      "outputs": []
    },
    {
      "cell_type": "code",
      "source": [
        "data.head()"
      ],
      "metadata": {
        "id": "GG5kdtIaWWYi"
      },
      "execution_count": null,
      "outputs": []
    },
    {
      "cell_type": "code",
      "source": [
        "features = data[['incidence_per_capita', 'cases']]"
      ],
      "metadata": {
        "id": "VldgsWofWjJk"
      },
      "execution_count": null,
      "outputs": []
    },
    {
      "cell_type": "code",
      "source": [
        "scaler = StandardScaler()\n",
        "scaled_features = scaler.fit_transform(features)"
      ],
      "metadata": {
        "id": "urjr52McWnmK"
      },
      "execution_count": null,
      "outputs": []
    },
    {
      "cell_type": "code",
      "source": [
        "wcss = []\n",
        "for i in range(1, 11):\n",
        "    kmeans = KMeans(n_clusters=i, init='k-means++', max_iter=300, n_init=10, random_state=0)\n",
        "    kmeans.fit(scaled_features)\n",
        "    wcss.append(kmeans.inertia_)\n"
      ],
      "metadata": {
        "id": "-X_lIrhsWsWm"
      },
      "execution_count": null,
      "outputs": []
    },
    {
      "cell_type": "code",
      "source": [
        "plt.plot(range(1, 11), wcss)\n",
        "plt.title('Elbow Method')\n",
        "plt.xlabel('Number of clusters')\n",
        "plt.ylabel('WCSS')\n",
        "plt.show()"
      ],
      "metadata": {
        "id": "S0ZvzOIIWvYQ"
      },
      "execution_count": null,
      "outputs": []
    },
    {
      "cell_type": "code",
      "source": [
        "optimal_clusters = 3\n",
        "kmeans = KMeans(n_clusters=optimal_clusters, init='k-means++', max_iter=300, n_init=10, random_state=0)\n",
        "kmeans.fit(scaled_features)"
      ],
      "metadata": {
        "id": "75TVfstYW0fF"
      },
      "execution_count": null,
      "outputs": []
    },
    {
      "cell_type": "code",
      "source": [
        "data['Cluster'] = kmeans.labels_"
      ],
      "metadata": {
        "id": "3JcLleINW7_B"
      },
      "execution_count": null,
      "outputs": []
    },
    {
      "cell_type": "code",
      "source": [
        "plt.scatter(data['incidence_per_capita'], data['cases'], c=data['Cluster'], cmap='viridis')\n",
        "plt.scatter(kmeans.cluster_centers_[:, 0], kmeans.cluster_centers_[:, 1], s=300, c='red')\n",
        "plt.title('Clusters of Regions with Similar Infectious Disease Characteristics')\n",
        "plt.xlabel('incidence_per_capita')\n",
        "plt.ylabel('cases')\n",
        "plt.show()"
      ],
      "metadata": {
        "id": "o3lHLGcTW9GH"
      },
      "execution_count": null,
      "outputs": []
    },
    {
      "cell_type": "markdown",
      "source": [
        "-->Silhouette Score"
      ],
      "metadata": {
        "id": "I-TsSSWFXCW3"
      }
    },
    {
      "cell_type": "markdown",
      "source": [
        "The Silhouette Score measures how similar an object is to its own cluster compared to other clusters. The score ranges from -1 to 1, where a high value indicates that the object is well matched to its own cluster and poorly matched to neighboring clusters."
      ],
      "metadata": {
        "id": "OjZpLTwIXExp"
      }
    },
    {
      "cell_type": "code",
      "source": [
        "from sklearn.cluster import KMeans\n",
        "from sklearn.metrics import silhouette_score\n",
        "import numpy as np\n",
        "import pandas as pd\n",
        "\n",
        "data= pd.read_csv('/content/rubella.csv')\n",
        "data = np.random.rand(100, 2)\n",
        "\n",
        "kmeans = KMeans(n_clusters=3)\n",
        "labels = kmeans.fit_predict(data)\n",
        "\n",
        "silhouette_avg = silhouette_score(data, labels)\n",
        "\n"
      ],
      "metadata": {
        "id": "i66O63YiXJEY"
      },
      "execution_count": null,
      "outputs": []
    },
    {
      "cell_type": "code",
      "source": [
        "print(f\"Silhouette Score: {silhouette_avg}\")"
      ],
      "metadata": {
        "id": "C6isMT_OXR-_"
      },
      "execution_count": null,
      "outputs": []
    },
    {
      "cell_type": "markdown",
      "source": [
        "-->Davies-Bouldin Index"
      ],
      "metadata": {
        "id": "Q6WwWdIiXT8q"
      }
    },
    {
      "cell_type": "markdown",
      "source": [
        "The Davies-Bouldin Index (DBI) is a metric for evaluating the quality of clusters in a dataset. It measures the compactness and separation between clusters. The lower the Davies-Bouldin Index, the better the clustering"
      ],
      "metadata": {
        "id": "zV5NtubgXWht"
      }
    },
    {
      "cell_type": "code",
      "source": [
        "from sklearn.cluster import KMeans\n",
        "from sklearn.metrics import davies_bouldin_score\n",
        "import numpy as np\n",
        "\n",
        "data= pd.read_csv('/content/rubella.csv')\n",
        "data = np.random.rand(100, 2)\n",
        "\n",
        "# Fit K-means model\n",
        "kmeans = KMeans(n_clusters=3)\n",
        "labels = kmeans.fit_predict(data)\n",
        "\n",
        "# Calculate Davies-Bouldin Index\n",
        "dbi_score = davies_bouldin_score(data, labels)"
      ],
      "metadata": {
        "id": "6DNhv3bsXaQj"
      },
      "execution_count": null,
      "outputs": []
    },
    {
      "cell_type": "code",
      "source": [
        "print(f\"Davies-Bouldin Index: {dbi_score}\")"
      ],
      "metadata": {
        "id": "J-AkQv0YXkKe"
      },
      "execution_count": null,
      "outputs": []
    },
    {
      "cell_type": "markdown",
      "source": [
        "# HEPATITIS"
      ],
      "metadata": {
        "id": "LzUA0ZdD8ZYp"
      }
    },
    {
      "cell_type": "code",
      "source": [
        "import pandas as pd\n",
        "import numpy as np\n",
        "from sklearn.cluster import KMeans\n",
        "import matplotlib.pyplot as plt\n",
        "from sklearn.preprocessing import StandardScaler"
      ],
      "metadata": {
        "id": "0rR1xxMSY18j"
      },
      "execution_count": null,
      "outputs": []
    },
    {
      "cell_type": "code",
      "source": [
        "data= pd.read_csv('/content/hepatitis.csv')"
      ],
      "metadata": {
        "id": "zetnSNtjY89R"
      },
      "execution_count": null,
      "outputs": []
    },
    {
      "cell_type": "code",
      "source": [
        "data.head()"
      ],
      "metadata": {
        "id": "1ujusIzMZFti"
      },
      "execution_count": null,
      "outputs": []
    },
    {
      "cell_type": "code",
      "source": [
        "features = data[['incidence_per_capita', 'cases']]"
      ],
      "metadata": {
        "id": "R6Hn1A0TZIpE"
      },
      "execution_count": null,
      "outputs": []
    },
    {
      "cell_type": "code",
      "source": [
        "scaler = StandardScaler()\n",
        "scaled_features = scaler.fit_transform(features)"
      ],
      "metadata": {
        "id": "kfWeFeI-ZNMi"
      },
      "execution_count": null,
      "outputs": []
    },
    {
      "cell_type": "code",
      "source": [
        "wcss = []\n",
        "for i in range(1, 11):\n",
        "    kmeans = KMeans(n_clusters=i, init='k-means++', max_iter=300, n_init=10, random_state=0)\n",
        "    kmeans.fit(scaled_features)\n",
        "    wcss.append(kmeans.inertia_)"
      ],
      "metadata": {
        "id": "0Pl3H_VRZRol"
      },
      "execution_count": null,
      "outputs": []
    },
    {
      "cell_type": "code",
      "source": [
        "plt.plot(range(1, 11), wcss)\n",
        "plt.title('Elbow Method')\n",
        "plt.xlabel('Number of clusters')\n",
        "plt.ylabel('WCSS')\n",
        "plt.show()"
      ],
      "metadata": {
        "id": "YMuu3m0GZVRX"
      },
      "execution_count": null,
      "outputs": []
    },
    {
      "cell_type": "code",
      "source": [
        "optimal_clusters = 3\n",
        "kmeans = KMeans(n_clusters=optimal_clusters, init='k-means++', max_iter=300, n_init=10, random_state=0)\n",
        "kmeans.fit(scaled_features)"
      ],
      "metadata": {
        "id": "tR_94NWlZVGU"
      },
      "execution_count": null,
      "outputs": []
    },
    {
      "cell_type": "code",
      "source": [
        "data['Cluster'] = kmeans.labels_"
      ],
      "metadata": {
        "id": "2OMvRt54ZU5I"
      },
      "execution_count": null,
      "outputs": []
    },
    {
      "cell_type": "code",
      "source": [
        "plt.scatter(data['incidence_per_capita'], data['cases'], c=data['Cluster'], cmap='viridis')\n",
        "plt.scatter(kmeans.cluster_centers_[:, 0], kmeans.cluster_centers_[:, 1], s=300, c='red')\n",
        "plt.title('Clusters of Regions with Similar Infectious Disease Characteristics')\n",
        "plt.xlabel('incidence_per_capita')\n",
        "plt.ylabel('cases')\n",
        "plt.show()"
      ],
      "metadata": {
        "id": "XcNlFFRgZU1p"
      },
      "execution_count": null,
      "outputs": []
    },
    {
      "cell_type": "markdown",
      "source": [
        "-->Silhouette Score"
      ],
      "metadata": {
        "id": "F-PEqKxjZjyd"
      }
    },
    {
      "cell_type": "markdown",
      "source": [
        "The Silhouette Score measures how similar an object is to its own cluster compared to other clusters. The score ranges from -1 to 1, where a high value indicates that the object is well matched to its own cluster and poorly matched to neighboring clusters."
      ],
      "metadata": {
        "id": "wNIbxbtGZmVW"
      }
    },
    {
      "cell_type": "code",
      "source": [
        "from sklearn.cluster import KMeans\n",
        "from sklearn.metrics import silhouette_score\n",
        "import numpy as np\n",
        "import pandas as pd\n",
        "\n",
        "data= pd.read_csv('/content/hepatitis.csv')\n",
        "data = np.random.rand(100, 2)\n",
        "\n",
        "kmeans = KMeans(n_clusters=3)\n",
        "labels = kmeans.fit_predict(data)\n",
        "\n",
        "silhouette_avg = silhouette_score(data, labels)\n"
      ],
      "metadata": {
        "id": "4FJxOzywZUyO"
      },
      "execution_count": null,
      "outputs": []
    },
    {
      "cell_type": "code",
      "source": [
        "print(f\"Silhouette Score: {silhouette_avg}\")"
      ],
      "metadata": {
        "id": "N_3EytldZz76"
      },
      "execution_count": null,
      "outputs": []
    },
    {
      "cell_type": "markdown",
      "source": [
        "-->Davies-Bouldin Index"
      ],
      "metadata": {
        "id": "BnxWVMqbZ1gV"
      }
    },
    {
      "cell_type": "markdown",
      "source": [
        "The Davies-Bouldin Index (DBI) is a metric for evaluating the quality of clusters in a dataset. It measures the compactness and separation between clusters. The lower the Davies-Bouldin Index, the better the clustering"
      ],
      "metadata": {
        "id": "Xys5nFVbZ38W"
      }
    },
    {
      "cell_type": "code",
      "source": [
        "from sklearn.cluster import KMeans\n",
        "from sklearn.metrics import davies_bouldin_score\n",
        "import numpy as np\n",
        "\n",
        "data= pd.read_csv('/content/hepatitis.csv')\n",
        "data = np.random.rand(100, 2)\n",
        "\n",
        "# Fit K-means model\n",
        "kmeans = KMeans(n_clusters=3)\n",
        "labels = kmeans.fit_predict(data)\n",
        "\n",
        "# Calculate Davies-Bouldin Index\n",
        "dbi_score = davies_bouldin_score(data, labels)"
      ],
      "metadata": {
        "id": "DzlTWwJ5Z6R5"
      },
      "execution_count": null,
      "outputs": []
    },
    {
      "cell_type": "code",
      "source": [
        "print(f\"Davies-Bouldin Index: {dbi_score}\")"
      ],
      "metadata": {
        "id": "PNp_4tQ2aCm1"
      },
      "execution_count": null,
      "outputs": []
    },
    {
      "cell_type": "markdown",
      "source": [
        "# POLIO"
      ],
      "metadata": {
        "id": "5tBM1ROYaHrJ"
      }
    },
    {
      "cell_type": "code",
      "source": [
        "import pandas as pd\n",
        "import numpy as np\n",
        "from sklearn.cluster import KMeans\n",
        "import matplotlib.pyplot as plt\n",
        "from sklearn.preprocessing import StandardScaler"
      ],
      "metadata": {
        "id": "uA2c0O9laKBr"
      },
      "execution_count": null,
      "outputs": []
    },
    {
      "cell_type": "code",
      "source": [
        "data= pd.read_csv('/content/polio.csv')"
      ],
      "metadata": {
        "id": "1zHsBlHoaPzQ"
      },
      "execution_count": null,
      "outputs": []
    },
    {
      "cell_type": "code",
      "source": [
        "data.head()"
      ],
      "metadata": {
        "id": "2JL_n6MeaPvz"
      },
      "execution_count": null,
      "outputs": []
    },
    {
      "cell_type": "code",
      "source": [
        "features = data[['incidence_per_capita', 'cases']]"
      ],
      "metadata": {
        "id": "9yoU2bZRaPtB"
      },
      "execution_count": null,
      "outputs": []
    },
    {
      "cell_type": "code",
      "source": [
        "scaler = StandardScaler()\n",
        "scaled_features = scaler.fit_transform(features)"
      ],
      "metadata": {
        "id": "jGYKZKn6aPpj"
      },
      "execution_count": null,
      "outputs": []
    },
    {
      "cell_type": "code",
      "source": [
        "wcss = []\n",
        "for i in range(1, 11):\n",
        "    kmeans = KMeans(n_clusters=i, init='k-means++', max_iter=300, n_init=10, random_state=0)\n",
        "    kmeans.fit(scaled_features)\n",
        "    wcss.append(kmeans.inertia_)\n"
      ],
      "metadata": {
        "id": "hQA1dp-naPlp"
      },
      "execution_count": null,
      "outputs": []
    },
    {
      "cell_type": "code",
      "source": [
        "plt.plot(range(1, 11), wcss)\n",
        "plt.title('Elbow Method')\n",
        "plt.xlabel('Number of clusters')\n",
        "plt.ylabel('WCSS')\n",
        "plt.show()"
      ],
      "metadata": {
        "id": "Zm9xoihOaPiU"
      },
      "execution_count": null,
      "outputs": []
    },
    {
      "cell_type": "code",
      "source": [
        "optimal_clusters = 3\n",
        "kmeans = KMeans(n_clusters=optimal_clusters, init='k-means++', max_iter=300, n_init=10, random_state=0)\n",
        "kmeans.fit(scaled_features)"
      ],
      "metadata": {
        "id": "mH7wC-6qd-E0"
      },
      "execution_count": null,
      "outputs": []
    },
    {
      "cell_type": "code",
      "source": [
        "data['Cluster'] = kmeans.labels_"
      ],
      "metadata": {
        "id": "7lNb8l5Ud-BY"
      },
      "execution_count": null,
      "outputs": []
    },
    {
      "cell_type": "code",
      "source": [
        "plt.scatter(data['incidence_per_capita'], data['cases'], c=data['Cluster'], cmap='viridis')\n",
        "plt.scatter(kmeans.cluster_centers_[:, 0], kmeans.cluster_centers_[:, 1], s=300, c='red')\n",
        "plt.title('Clusters of Regions with Similar Infectious Disease Characteristics')\n",
        "plt.xlabel('incidence_per_capita')\n",
        "plt.ylabel('cases')\n",
        "plt.show()"
      ],
      "metadata": {
        "id": "SVGygOP8eJdf"
      },
      "execution_count": null,
      "outputs": []
    },
    {
      "cell_type": "markdown",
      "source": [
        "-->Silhouette Score\n"
      ],
      "metadata": {
        "id": "VhgTzY8weMqZ"
      }
    },
    {
      "cell_type": "markdown",
      "source": [
        "The Silhouette Score measures how similar an object is to its own cluster compared to other clusters. The score ranges from -1 to 1, where a high value indicates that the object is well matched to its own cluster and poorly matched to neighboring clusters."
      ],
      "metadata": {
        "id": "tZvC2FqQeQ2Q"
      }
    },
    {
      "cell_type": "code",
      "source": [
        "from sklearn.cluster import KMeans\n",
        "from sklearn.metrics import silhouette_score\n",
        "import numpy as np\n",
        "import pandas as pd\n",
        "\n",
        "data= pd.read_csv('/content/polio.csv')\n",
        "data = np.random.rand(100, 2)\n",
        "\n",
        "kmeans = KMeans(n_clusters=3)\n",
        "labels = kmeans.fit_predict(data)\n",
        "\n",
        "silhouette_avg = silhouette_score(data, labels)\n"
      ],
      "metadata": {
        "id": "eKxSzvhceUcY"
      },
      "execution_count": null,
      "outputs": []
    },
    {
      "cell_type": "code",
      "source": [
        "print(f\"Silhouette Score: {silhouette_avg}\")"
      ],
      "metadata": {
        "id": "TZFBm4nseapd"
      },
      "execution_count": null,
      "outputs": []
    },
    {
      "cell_type": "markdown",
      "source": [
        "-->Davies-Bouldin Index"
      ],
      "metadata": {
        "id": "7YJ6f-u4egVz"
      }
    },
    {
      "cell_type": "markdown",
      "source": [
        "The Davies-Bouldin Index (DBI) is a metric for evaluating the quality of clusters in a dataset. It measures the compactness and separation between clusters. The lower the Davies-Bouldin Index, the better the clustering"
      ],
      "metadata": {
        "id": "D-om6vPNegSV"
      }
    },
    {
      "cell_type": "code",
      "source": [
        "from sklearn.cluster import KMeans\n",
        "from sklearn.metrics import davies_bouldin_score\n",
        "import numpy as np\n",
        "\n",
        "data= pd.read_csv('/content/polio.csv')\n",
        "data = np.random.rand(100, 2)\n",
        "\n",
        "# Fit K-means model\n",
        "kmeans = KMeans(n_clusters=3)\n",
        "labels = kmeans.fit_predict(data)\n",
        "\n",
        "# Calculate Davies-Bouldin Index\n",
        "dbi_score = davies_bouldin_score(data, labels)"
      ],
      "metadata": {
        "id": "tcIeSUH7ekvF"
      },
      "execution_count": null,
      "outputs": []
    },
    {
      "cell_type": "code",
      "source": [
        "print(f\"Davies-Bouldin Index: {dbi_score}\")"
      ],
      "metadata": {
        "id": "vE4Hu1DGeoBC"
      },
      "execution_count": null,
      "outputs": []
    },
    {
      "cell_type": "markdown",
      "source": [
        "# To identify hotspots of disease outbreak using spatial analysis"
      ],
      "metadata": {
        "id": "W0UZ8ajpBvqq"
      }
    },
    {
      "cell_type": "code",
      "source": [
        "import geopandas as gpd\n",
        "from shapely.geometry import Point\n",
        "from sklearn.cluster import DBSCAN\n",
        "from sklearn.preprocessing import StandardScaler\n",
        "import matplotlib.pyplot as plt"
      ],
      "metadata": {
        "id": "4kcgWKQyCDb5"
      },
      "execution_count": null,
      "outputs": []
    },
    {
      "cell_type": "code",
      "source": [
        "gdf = gpd.read_file('/content/measles_spatial.csv')"
      ],
      "metadata": {
        "id": "DqJeGQP6CUAI"
      },
      "execution_count": null,
      "outputs": []
    },
    {
      "cell_type": "code",
      "source": [
        "gdf.head()"
      ],
      "metadata": {
        "id": "TQFRS-xeJb55"
      },
      "execution_count": null,
      "outputs": []
    },
    {
      "cell_type": "code",
      "source": [
        "g = gpd.GeoDataFrame(gdf, geometry=gpd.points_from_xy(gdf.longitude, gdf.latitude))\n",
        "g.crs={'init': 'epsg:4326'}\n",
        "g.head()"
      ],
      "metadata": {
        "id": "q5zAQ5uYPG2_"
      },
      "execution_count": null,
      "outputs": []
    },
    {
      "cell_type": "code",
      "source": [
        "gdf.plot(markersize=5, color='blue', alpha=0.5)\n",
        "plt.title('Original Spatial Dataset')\n",
        "plt.xlabel(\"latitude\")\n",
        "plt.ylabel(\"longitude\")\n",
        "plt.show()"
      ],
      "metadata": {
        "id": "nouJ7s7GQoYN"
      },
      "execution_count": null,
      "outputs": []
    },
    {
      "cell_type": "code",
      "source": [
        "coordinates = gdf['geometry'].apply(lambda geom: [geom.x, geom.y]).tolist()\n"
      ],
      "metadata": {
        "id": "GQ6Qa_y9QuPc"
      },
      "execution_count": null,
      "outputs": []
    },
    {
      "cell_type": "code",
      "source": [
        "coords_array = np.array(coordinates)"
      ],
      "metadata": {
        "id": "8M6n5SGwQxS3"
      },
      "execution_count": null,
      "outputs": []
    },
    {
      "cell_type": "code",
      "source": [
        "scaler = StandardScaler()\n",
        "scaled_coords = scaler.fit_transform(coords_array)"
      ],
      "metadata": {
        "id": "ujiLwhHQQz-Y"
      },
      "execution_count": null,
      "outputs": []
    },
    {
      "cell_type": "code",
      "source": [
        "dbscan = DBSCAN(eps=0.5, min_samples=5)  # Adjust parameters based on your dataset\n",
        "clusters = dbscan.fit_predict(scaled_coords)\n"
      ],
      "metadata": {
        "id": "0Xz--PSxQ2vz"
      },
      "execution_count": null,
      "outputs": []
    },
    {
      "cell_type": "code",
      "source": [
        "gdf['Cluster'] = clusters"
      ],
      "metadata": {
        "id": "sQb4JbnTQ5VL"
      },
      "execution_count": null,
      "outputs": []
    },
    {
      "cell_type": "code",
      "source": [
        "gdf.plot(column='Cluster', cmap='viridis', markersize=30, alpha=0.5, legend=True)\n",
        "plt.title('Spatial Clusters (Hotspots) of Disease Outbreak')\n",
        "plt.xlabel(\"latitude\")\n",
        "plt.ylabel(\"longitude\")\n",
        "plt.show()\n"
      ],
      "metadata": {
        "id": "Mb0CVfvIQ7j1"
      },
      "execution_count": null,
      "outputs": []
    },
    {
      "cell_type": "markdown",
      "source": [
        "                                                                The End"
      ],
      "metadata": {
        "id": "8-TX14C5LVhd"
      }
    }
  ]
}